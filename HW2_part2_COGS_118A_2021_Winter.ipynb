{
 "cells": [
  {
   "cell_type": "markdown",
   "metadata": {
    "id": "F2nMBtOCxMTN"
   },
   "source": [
    "# COGS 118A: Supervised Machine Learning Algorithms\n",
    "## Homework Assignment 2\n",
    "### Coding Part"
   ]
  },
  {
   "cell_type": "markdown",
   "metadata": {
    "id": "Z4HcznxTxYKU"
   },
   "source": [
    "**Instructions:** This Jupyter notebook contains starter codes for the coding questions of the assignment. Use this notebook as a starting point to code the answers to the coding questions. Then generate a PDF file of the notebook and combine it with the PDF file of your solution to the written questions and submit a **single PDF file** to Gradescope."
   ]
  },
  {
   "cell_type": "markdown",
   "metadata": {
    "id": "bBJa-JA-9rDd"
   },
   "source": [
    "## 4 (10 points) Basic NumPy Operations"
   ]
  },
  {
   "cell_type": "code",
   "execution_count": null,
   "metadata": {
    "id": "2kFeITfQAQGK"
   },
   "outputs": [],
   "source": [
    "import numpy as np\n",
    "a = np.array([2,1,7])\n",
    "b = np.array([-2,7,-5])\n",
    "A = np.array([[2,4], [1,3], [7,9]])\n",
    "B = np.array([[2,-2], [-3,7], [6,-5]])"
   ]
  },
  {
   "cell_type": "markdown",
   "metadata": {
    "id": "_mj7rYbFBf3h"
   },
   "source": [
    "## 5 (10 points) Basic Plots Using Matplotlib"
   ]
  },
  {
   "cell_type": "code",
   "execution_count": null,
   "metadata": {
    "colab": {
     "base_uri": "https://localhost:8080/",
     "height": 1000
    },
    "id": "Qr-sP7UH9g-f",
    "outputId": "7604fb77-7bd9-4445-d899-06c3258a621b",
    "scrolled": false
   },
   "outputs": [],
   "source": [
    "import numpy as np\n",
    "import matplotlib.pyplot as plt\n",
    "\n",
    "np.random.seed(0)\n",
    "space = np.linspace(0, 10, num = 50)\n",
    "sine = np.sin(space)\n",
    "sine_5 = sine\n",
    "\n",
    "for i in range(5):\n",
    "    sine_5 = sine_5 + np.random.normal(scale = 0.1, size = 50)\n",
    "    \n",
    "plt.scatter(space, sine, color = 'b', label = 'sine curve')\n",
    "plt.plot(space, sine_5, color = 'r', label = 'noise_5_iters')\n",
    "plt.legend(loc = 'upper right')\n",
    "plt.show()"
   ]
  },
  {
   "cell_type": "markdown",
   "metadata": {
    "id": "slMBzzw7IPW-"
   },
   "source": [
    "## 6 (10 points) Data Visualization"
   ]
  },
  {
   "cell_type": "code",
   "execution_count": null,
   "metadata": {
    "id": "3K-X0l6MIkdp"
   },
   "outputs": [],
   "source": [
    "import matplotlib.pyplot as plt\n",
    "from sklearn import datasets\n",
    "from mpl_toolkits.mplot3d import Axes3D"
   ]
  },
  {
   "cell_type": "markdown",
   "metadata": {
    "id": "zR7RFUkNIW1U"
   },
   "source": [
    "Load Iris dataset into Python:"
   ]
  },
  {
   "cell_type": "code",
   "execution_count": null,
   "metadata": {
    "id": "TjOPcA4yInDj"
   },
   "outputs": [],
   "source": [
    "iris = datasets.load_iris()\n",
    "X = iris.data\n",
    "Y = iris.target"
   ]
  },
  {
   "cell_type": "markdown",
   "metadata": {
    "id": "Nl5BOTapIXjU"
   },
   "source": [
    "## 7 (10 points) Ploting Decision Boundaries"
   ]
  },
  {
   "cell_type": "code",
   "execution_count": null,
   "metadata": {
    "id": "A42XRW52Bd1l"
   },
   "outputs": [],
   "source": [
    "import numpy as np\n",
    "import matplotlib.pyplot as plt\n",
    "from mpl_toolkits.mplot3d import Axes3D\n",
    "%config InlineBackend.figure_format ='retina'\n",
    "\n",
    "def plot_plane(w1, w2, w3, b, num = 30):\n",
    "  '''Helper function for 7.2; modify this example using plt.plot()instead of Axes3D() to handle 7.1 & 7.3''' \n",
    "\n",
    "  X_range = np.linspace(0,10,num)\n",
    "\n",
    "  # sets up space to plot, 3d equivalent of np.linspace() used for 2d plotting\n",
    "  X1_plane, X2_plane, X3_plane = np.meshgrid(X_range, X_range, X_range)\n",
    "\n",
    "  # this defines the equation to plot\n",
    "  X3_plane = (b + w1 * X1_plane + w2 * X2_plane)/(-w3)\n",
    "\n",
    "  # does plotting\n",
    "  fig = plt.figure(figsize = (6, 6))\n",
    "  ax = Axes3D(fig, elev = -150, azim = 130)\n",
    "  ax.scatter(X1_plane, X2_plane, X3_plane)\n",
    "  ax.set_xlabel('$x_1$')\n",
    "  ax.set_ylabel('$x_2$')\n",
    "  ax.set_zlabel('$x_3$')\n",
    "  plt.title(\"Plane: ${}x_1+{}x_2+{}x_3+{}=0$\".format(w1,w2,w3,b))\n",
    "  plt.show()"
   ]
  },
  {
   "cell_type": "markdown",
   "metadata": {
    "id": "otWRzvkkMvfI"
   },
   "source": [
    "To plot lines and curves in 2-D space, use function ```plt.plot()``` in place of ```Axes3d()```."
   ]
  },
  {
   "cell_type": "markdown",
   "metadata": {
    "id": "euqrOI_eMyhZ"
   },
   "source": [
    "## 8 (25 points) Data Manipulation"
   ]
  },
  {
   "cell_type": "markdown",
   "metadata": {},
   "source": [
    "Get a row or a column of the array X:"
   ]
  },
  {
   "cell_type": "code",
   "execution_count": null,
   "metadata": {
    "colab": {
     "base_uri": "https://localhost:8080/"
    },
    "id": "GkopgqhNIN0g",
    "outputId": "7aa849fc-8dbf-44fe-e0e3-3072c21d71c3"
   },
   "outputs": [],
   "source": [
    "print(X[0]) # Print the first row of array X.\n",
    "print(X[:, 0]) # Print the first column of array X.\n",
    "# ':' here means all rows and '0' means column 0."
   ]
  },
  {
   "cell_type": "markdown",
   "metadata": {
    "id": "06NS4hGgNa-O"
   },
   "source": [
    "Get part of the array:"
   ]
  },
  {
   "cell_type": "code",
   "execution_count": null,
   "metadata": {
    "colab": {
     "base_uri": "https://localhost:8080/"
    },
    "id": "mmNePH2TNOeU",
    "outputId": "83418f22-18dd-4ffe-cb82-c89a570de25c"
   },
   "outputs": [],
   "source": [
    "print(X[3:5, 1:3]) # Print 4th and 5th rows, 2nd and 3rd columns.\n",
    "print(X[:3, :2]) # Print first 3 rows, first 2 columns."
   ]
  }
 ],
 "metadata": {
  "colab": {
   "collapsed_sections": [],
   "name": "Assignment1.ipynb",
   "provenance": []
  },
  "kernelspec": {
   "display_name": "Python 3",
   "language": "python",
   "name": "python3"
  },
  "language_info": {
   "codemirror_mode": {
    "name": "ipython",
    "version": 3
   },
   "file_extension": ".py",
   "mimetype": "text/x-python",
   "name": "python",
   "nbconvert_exporter": "python",
   "pygments_lexer": "ipython3",
   "version": "3.8.5"
  },
  "varInspector": {
   "cols": {
    "lenName": 16,
    "lenType": 16,
    "lenVar": 40
   },
   "kernels_config": {
    "python": {
     "delete_cmd_postfix": "",
     "delete_cmd_prefix": "del ",
     "library": "var_list.py",
     "varRefreshCmd": "print(var_dic_list())"
    },
    "r": {
     "delete_cmd_postfix": ") ",
     "delete_cmd_prefix": "rm(",
     "library": "var_list.r",
     "varRefreshCmd": "cat(var_dic_list()) "
    }
   },
   "types_to_exclude": [
    "module",
    "function",
    "builtin_function_or_method",
    "instance",
    "_Feature"
   ],
   "window_display": false
  }
 },
 "nbformat": 4,
 "nbformat_minor": 1
}
